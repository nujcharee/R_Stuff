{
 "cells": [
  {
   "cell_type": "markdown",
   "metadata": {},
   "source": [
    "# Evolutionary algorithms in optimisation"
   ]
  },
  {
   "cell_type": "code",
   "execution_count": 1,
   "metadata": {},
   "outputs": [],
   "source": [
    "# Load libraries required\n",
    "\n",
    "import numpy as np\n",
    "import random "
   ]
  },
  {
   "cell_type": "code",
   "execution_count": 2,
   "metadata": {},
   "outputs": [],
   "source": [
    "\"\"\"Calculate distance between two genomes\n",
    "\n",
    "    Args:\n",
    "      word1: master genome\n",
    "      word2: mutated genome\n",
    "\n",
    "    Returns:\n",
    "      A number that calculates distance between two genome, minimum 0, maximum 21\n",
    "\n",
    "\"\"\"\n",
    "\n",
    "# for each letter in the first word, \n",
    "# if the letter is not the same as that letter in the second word, \n",
    "# then increase the distance by 1\n",
    "\n",
    "def distWord(word1, word2):\n",
    "    distance = 0\n",
    "    for i in range(0, len(word1)):\n",
    "        if word1[i] != word2[i]:\n",
    "            distance += 1\n",
    "    return distance\n",
    "\n"
   ]
  },
  {
   "cell_type": "code",
   "execution_count": 3,
   "metadata": {},
   "outputs": [],
   "source": [
    "\"\"\"\n",
    "Setting the master sequence\n",
    "\"\"\"\n",
    "\n",
    "master = \"GATACCAATTACCAGATACCA\""
   ]
  },
  {
   "cell_type": "code",
   "execution_count": 4,
   "metadata": {},
   "outputs": [],
   "source": [
    "\"\"\"Populate starting sequence \n",
    "   Formed by random sequences of length in the letters A, C, G, T\n",
    "    \n",
    "   Const:\n",
    "      N: Constant number 10\n",
    "   \n",
    "   Args:\n",
    "      L: Constant number 21\n",
    "      letters: List of letters A, C, G, T\n",
    "\n",
    "    Returns:\n",
    "      A string of 21 random sequences consisted of letters A, C, G, T\n",
    "\n",
    "\"\"\"\n",
    "\n",
    "# Initialise the first genome\n",
    "\n",
    "letters  = ['A', 'C', 'T', 'G']\n",
    "pops = []\n",
    "\n",
    "N = 10\n",
    "L = 21\n",
    "\n",
    "# Generates L length string of chars in Letters\n",
    "\n",
    "def createRandomGenome(L,letters):\n",
    "    genome = ''\n",
    "    for i in range(L):\n",
    "        genome=genome + random.choice(letters)\n",
    "    return genome\n"
   ]
  },
  {
   "cell_type": "code",
   "execution_count": 5,
   "metadata": {},
   "outputs": [
    {
     "name": "stdout",
     "output_type": "stream",
     "text": [
      "Creating starting sequence:\n"
     ]
    },
    {
     "data": {
      "text/plain": [
       "[['GCGGCGCAGAAAGTAGACCGT', 5],\n",
       " ['ACAAATTTGTAGCCGATGTGA', 8],\n",
       " ['GTGTACTAGCATACAGATTGG', 4],\n",
       " ['CGAGGCTTCCAATTCCATGGC', 2],\n",
       " ['CCCGTCGAACAGGGCGAGCCC', 5],\n",
       " ['CAATCTCTCGGTGTACGGCGG', 3],\n",
       " ['CGGCCACTAAAGAAGGTGCAG', 6],\n",
       " ['CTGACCAGGCCTAGCAATGCG', 6],\n",
       " ['AATAATCATTTGCTCAGCATT', 8],\n",
       " ['AGAATTTTCATATACGGTCCG', 4]]"
      ]
     },
     "execution_count": 5,
     "metadata": {},
     "output_type": "execute_result"
    }
   ],
   "source": [
    "\"\"\"Generate and display starting sequence of 21 random sequence 10 times\n",
    "    \n",
    "    Args:\n",
    "      seq: Number of genomes of 21 random sequence\n",
    "\n",
    "    Returns:\n",
    "      A list of 10 genomes\n",
    "\"\"\"\n",
    "\n",
    "print(\"Creating starting sequence:\")\n",
    "\n",
    "\n",
    "# Make N genomes, number of letters in common with master genome\n",
    "for i in range(N):\n",
    "    g = []\n",
    "    g = createRandomGenome(L,letters)\n",
    "    pop = [g, len(master)-distWord(master,g)]\n",
    "    pops.append(pop)\n",
    "\n",
    "pops"
   ]
  },
  {
   "cell_type": "code",
   "execution_count": 6,
   "metadata": {},
   "outputs": [],
   "source": [
    "\"\"\"Select the genome with the smallest distance to the master genome\n",
    "\n",
    "    Args:\n",
    "      pops: List of genomes\n",
    "\n",
    "    Returns:\n",
    "      A single smallest genome and its distance from the master genome\n",
    "\n",
    "\"\"\"\n",
    "\n",
    "# reutrn the most similar genome to master, similar characters\n",
    "def selectMostSimilar(pops):\n",
    "    selection_list = sorted(pops, key=lambda x: x[1],reverse=True)\n",
    "    best = selection_list[0]\n",
    "    return best "
   ]
  },
  {
   "cell_type": "code",
   "execution_count": 7,
   "metadata": {},
   "outputs": [
    {
     "data": {
      "text/plain": [
       "['ACAAATTTGTAGCCGATGTGA', 8]"
      ]
     },
     "execution_count": 7,
     "metadata": {},
     "output_type": "execute_result"
    }
   ],
   "source": [
    "\"\"\"Call selectMostSimilar function, assign the output to an object called parent and display\n",
    "\"\"\"\n",
    "\n",
    "parent = selectMostSimilar(pops)\n",
    "parent"
   ]
  },
  {
   "cell_type": "code",
   "execution_count": 8,
   "metadata": {},
   "outputs": [],
   "source": [
    "\"\"\"Produce offspring and mutate with mutate rate as per offspring probability\n",
    "    \n",
    "   Args:\n",
    "      parent: the best genome defined by the smallest distance to the master genome\n",
    "\n",
    "    Returns:\n",
    "      A list of 10 offsprings\n",
    "\n",
    "\"\"\"\n",
    "\n",
    "p = 10\n",
    "\n",
    "# Run 10 times, go through parent genome, change 1 in 10 characters, and add that to a list\n",
    "# Return the list\n",
    "\n",
    "def createOffspring(parent):\n",
    "    \n",
    "    offspring = [] # list of offspring to be mutated\n",
    "    # mutate_list = [] # placeholder for mutated offspring\n",
    "    \n",
    "    for i in range(N):\n",
    "        offspring_genome = '' \n",
    "    \n",
    "        for char in str(parent[0]): \n",
    "            if random.randint(1,100) <= p : # probability\n",
    "                offspring_genome = offspring_genome + random.choice(letters) \n",
    "            else:  \n",
    "                offspring_genome = offspring_genome + char \n",
    "\n",
    "        offspring.append(offspring_genome, )\n",
    "      \n",
    "    return offspring"
   ]
  },
  {
   "cell_type": "code",
   "execution_count": 9,
   "metadata": {},
   "outputs": [
    {
     "data": {
      "text/plain": [
       "['ACAAATTTGTAGCCGATGTGA',\n",
       " 'ACTAATTTGTAGCCGATGTGA',\n",
       " 'ACATATTTGTAGCCGATGTGA',\n",
       " 'ATAAATTTGTAGCCGATGTGA',\n",
       " 'CCAAATTTGTAGCCGATGTGA',\n",
       " 'TCTAACTTGGAGCCGATGTGA',\n",
       " 'ACAAATTTGTAGCCGATGTGA',\n",
       " 'ACAAATTTGTAGCCGATATGA',\n",
       " 'ACAAAGTTTTAGGCGATGTCA',\n",
       " 'ACAAATTTGAAGCCGATGTGA']"
      ]
     },
     "execution_count": 9,
     "metadata": {},
     "output_type": "execute_result"
    }
   ],
   "source": [
    "\"\"\"Call createOffspring function, assign the output to an object called offspring and display\n",
    "\"\"\"\n",
    "offspring = createOffspring(parent)\n",
    "offspring "
   ]
  },
  {
   "cell_type": "code",
   "execution_count": 10,
   "metadata": {},
   "outputs": [],
   "source": [
    "\"\"\"Create children from offspring, \n",
    "    Find the most similar genome from a list of 10 offspring genomes\n",
    "    \n",
    "    Args:\n",
    "          parent: the best genome which is the output of selectMostSimilar function\n",
    "\n",
    "        Returns:\n",
    "          A single child with most similar genome to the master \n",
    "\n",
    "\"\"\"\n",
    "\n",
    "def getBestChild(parent):\n",
    "    mutated_list = []\n",
    "    # create children from offspring\n",
    "    children = createOffspring(parent)\n",
    "    # mutate children\n",
    "    for c in children:\n",
    "        mutated = [c, len(master)-distWord(master,c)]\n",
    "        mutated_list.append(mutated)\n",
    "    \n",
    "    best = selectMostSimilar(mutated_list)\n",
    "    return best\n"
   ]
  },
  {
   "cell_type": "code",
   "execution_count": 11,
   "metadata": {},
   "outputs": [
    {
     "data": {
      "text/plain": [
       "['ACTATTTTGTAACCGATGTGA', 9]"
      ]
     },
     "execution_count": 11,
     "metadata": {},
     "output_type": "execute_result"
    }
   ],
   "source": [
    "\"\"\"Call getBestChild function, assign the output to an object called best and display\n",
    "\"\"\"\n",
    "\n",
    "best = getBestChild(parent)\n",
    "best"
   ]
  },
  {
   "cell_type": "code",
   "execution_count": 12,
   "metadata": {},
   "outputs": [
    {
     "data": {
      "text/plain": [
       "['ACAAATTTGTAGCCGATGTGA', 8]"
      ]
     },
     "execution_count": 12,
     "metadata": {},
     "output_type": "execute_result"
    }
   ],
   "source": [
    "\"\"\"Display parent to inspect\n",
    "\"\"\"\n",
    "parent"
   ]
  },
  {
   "cell_type": "code",
   "execution_count": 13,
   "metadata": {},
   "outputs": [],
   "source": [
    "\"\"\"Create a new generation of offspring, \n",
    "   If any offspring has a smaller distance to the master sequence \n",
    "   Select the genome with the smallest distance\n",
    "   Use that genome to create a new generation of offspring, \n",
    "   Otherwise use the previous one again\n",
    " \n",
    "    Args:\n",
    "          parent: the best genome\n",
    "\n",
    "        Returns:\n",
    "          A single child with most similar genome to the master \n",
    "\n",
    "\"\"\"\n",
    "\n",
    "# take parent, generate offspring from parent, \n",
    "# choose best offspring, and choose between best offspring and parent for next generation\n",
    "def runGeneration(parent):\n",
    "    best_child = getBestChild(parent)\n",
    "    \n",
    "    if best_child[1] > parent[1]:\n",
    "        fittest = best_child\n",
    "    else:\n",
    "        fittest = parent\n",
    "    \n",
    "    return fittest\n",
    "    "
   ]
  },
  {
   "cell_type": "code",
   "execution_count": 14,
   "metadata": {},
   "outputs": [
    {
     "name": "stdout",
     "output_type": "stream",
     "text": [
      "Fittest:  ['ACAAACTTCTAGCCGATGCGA', 10] Generation:  1\n",
      "Fittest:  ['ACAAACTTCTAGCCGATGCCA', 11] Generation:  2\n",
      "Fittest:  ['ACAAACATCTAGCCGATGCCA', 12] Generation:  3\n",
      "Fittest:  ['ACAAACATCTAGCCGATACCA', 13] Generation:  4\n",
      "Fittest:  ['ACAAACATTTAGCCGATACCA', 14] Generation:  5\n",
      "Fittest:  ['ACAAACATTTAGCCGATACCA', 14] Generation:  6\n",
      "Fittest:  ['ACAAACATTTAGCCGATACCA', 14] Generation:  7\n",
      "Fittest:  ['ACAAACATTTAGCCGATACCA', 14] Generation:  8\n",
      "Fittest:  ['ACAAACAATTAGCCGATACCA', 15] Generation:  9\n",
      "Fittest:  ['ACAAACAATTAGCCGATACCA', 15] Generation:  10\n",
      "Fittest:  ['ACAAACAATTAGCCGATACCA', 15] Generation:  11\n",
      "Fittest:  ['ACAAACAATTAGCCGATACCA', 15] Generation:  12\n",
      "Fittest:  ['ACAAACAATTAGCCGATACCA', 15] Generation:  13\n",
      "Fittest:  ['ACAAACAATTAGCAGATACCA', 16] Generation:  14\n",
      "Fittest:  ['ACAAACAATTAGCAGATACCA', 16] Generation:  15\n",
      "Fittest:  ['ACAAACAATTAGCAGATACCA', 16] Generation:  16\n",
      "Fittest:  ['ACAAACAATTAGCAGATACCA', 16] Generation:  17\n",
      "Fittest:  ['ACAAACAATTAGCAGATACCA', 16] Generation:  18\n",
      "Fittest:  ['ACAACCAATTAGCAGATACCA', 17] Generation:  19\n",
      "Fittest:  ['ACAACCAATTAGCAGATACCA', 17] Generation:  20\n",
      "Fittest:  ['ACAACCAATTAGCAGATACCA', 17] Generation:  21\n",
      "Fittest:  ['ACAACCAATTAGCAGATACCA', 17] Generation:  22\n",
      "Fittest:  ['ACAACCAATTAGCAGATACCA', 17] Generation:  23\n",
      "Fittest:  ['ACAACCAATTAGCAGATACCA', 17] Generation:  24\n",
      "Fittest:  ['ACAACCAATTAGCAGATACCA', 17] Generation:  25\n",
      "Fittest:  ['ACAACCAATTAGCAGATACCA', 17] Generation:  26\n",
      "Fittest:  ['ACAACCAATTAGCAGATACCA', 17] Generation:  27\n",
      "Fittest:  ['ACAACCAATTAGCAGATACCA', 17] Generation:  28\n",
      "Fittest:  ['GCAACCAATTAGCAGATACCA', 18] Generation:  29\n",
      "Fittest:  ['GCAACCAATTAGCAGATACCA', 18] Generation:  30\n",
      "Fittest:  ['GCAACCAATTAGCAGATACCA', 18] Generation:  31\n",
      "Fittest:  ['GCAACCAATTAGCAGATACCA', 18] Generation:  32\n",
      "Fittest:  ['GCAACCAATTAGCAGATACCA', 18] Generation:  33\n",
      "Fittest:  ['GCAACCAATTAGCAGATACCA', 18] Generation:  34\n",
      "Fittest:  ['GCTACCAATTAGCAGATACCA', 19] Generation:  35\n",
      "Fittest:  ['GCTACCAATTAGCAGATACCA', 19] Generation:  36\n",
      "Fittest:  ['GCTACCAATTAGCAGATACCA', 19] Generation:  37\n",
      "Fittest:  ['GATACCAATTAGCAGATACCA', 20] Generation:  38\n",
      "Fittest:  ['GATACCAATTAGCAGATACCA', 20] Generation:  39\n",
      "Fittest:  ['GATACCAATTAGCAGATACCA', 20] Generation:  40\n",
      "Fittest:  ['GATACCAATTAGCAGATACCA', 20] Generation:  41\n",
      "Fittest:  ['GATACCAATTAGCAGATACCA', 20] Generation:  42\n",
      "Fittest:  ['GATACCAATTAGCAGATACCA', 20] Generation:  43\n",
      "Fittest:  ['GATACCAATTAGCAGATACCA', 20] Generation:  44\n",
      "Fittest:  ['GATACCAATTAGCAGATACCA', 20] Generation:  45\n",
      "Fittest:  ['GATACCAATTAGCAGATACCA', 20] Generation:  46\n",
      "Fittest:  ['GATACCAATTAGCAGATACCA', 20] Generation:  47\n",
      "Fittest:  ['GATACCAATTAGCAGATACCA', 20] Generation:  48\n",
      "Fittest:  ['GATACCAATTAGCAGATACCA', 20] Generation:  49\n",
      "Fittest:  ['GATACCAATTAGCAGATACCA', 20] Generation:  50\n",
      "Fittest:  ['GATACCAATTACCAGATACCA', 21] Generation:  51\n",
      "Master sequence has been achieved\n",
      "Probability  10 in 100\n",
      "Number of offspring  10\n",
      "Number of generations  51\n"
     ]
    }
   ],
   "source": [
    "\"\"\"Repeat the process for a number of g generations, till the master sequence has been achieved through evolution\n",
    "   Display the process in each g generation\n",
    "\"\"\"\n",
    "\n",
    "\n",
    "fittest = parent\n",
    "\n",
    "progress_g = []\n",
    "progress_f = []\n",
    "\n",
    "g = 0\n",
    "while fittest[1] !=21:\n",
    "    new_fittest = runGeneration(fittest)\n",
    "    fittest = new_fittest\n",
    "    g +=1\n",
    "    progress_g.append(g)\n",
    "    progress_f.append(fittest[1])\n",
    "    # print(fittest)\n",
    "    print(\"Fittest: \", fittest, \"Generation: \", g)\n",
    "\n",
    "print(\"Master sequence has been achieved\")\n",
    "print(\"Probability \", p, \"in 100\")\n",
    "print(\"Number of offspring \", N)\n",
    "print(\"Number of generations \", g)\n",
    "\n",
    "    "
   ]
  },
  {
   "cell_type": "code",
   "execution_count": 16,
   "metadata": {},
   "outputs": [
    {
     "data": {
      "image/png": "[encoded data removed]",
      "text/plain": [
       "<Figure size 432x288 with 1 Axes>"
      ]
     },
     "metadata": {
      "needs_background": "light"
     },
     "output_type": "display_data"
    }
   ],
   "source": [
    "# Plot progress\n",
    "import matplotlib.pyplot as plt\n",
    "\n",
    "x = np.array(progress_g)\n",
    "y = np.array(progress_f)\n",
    "\n",
    "plt.plot(x, y)\n",
    "plt.xlabel('Generations')\n",
    "plt.ylim(top=25)\n",
    "plt.ylabel('Fittest Score')\n",
    "plt.show()"
   ]
  },
  {
   "cell_type": "code",
   "execution_count": null,
   "metadata": {},
   "outputs": [],
   "source": []
  },
  {
   "cell_type": "code",
   "execution_count": null,
   "metadata": {},
   "outputs": [],
   "source": []
  }
 ],
 "metadata": {
  "kernelspec": {
   "display_name": "Python 3",
   "language": "python",
   "name": "python3"
  },
  "language_info": {
   "codemirror_mode": {
    "name": "ipython",
    "version": 3
   },
   "file_extension": ".py",
   "mimetype": "text/x-python",
   "name": "python",
   "nbconvert_exporter": "python",
   "pygments_lexer": "ipython3",
   "version": "3.7.3"
  }
 },
 "nbformat": 4,
 "nbformat_minor": 2
}
